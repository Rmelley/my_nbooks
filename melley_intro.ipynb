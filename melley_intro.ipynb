{
 "cells": [
  {
   "cell_type": "markdown",
   "id": "918b16ca-5379-4d71-bcbe-f3ee59fd4b11",
   "metadata": {},
   "source": [
    "# Week 1 Notebook"
   ]
  },
  {
   "cell_type": "markdown",
   "id": "f21c4a11-8ef0-44bd-8a0c-cad1c741f504",
   "metadata": {},
   "source": [
    "## Rylan Melley"
   ]
  },
  {
   "cell_type": "code",
   "execution_count": 51,
   "id": "be038923-b81f-46dd-91d1-a0fc19f8999d",
   "metadata": {},
   "outputs": [],
   "source": [
    "import random\n",
    "nums = [random.randint(30, 100) for _ in range(40)]"
   ]
  },
  {
   "cell_type": "code",
   "execution_count": 57,
   "id": "b6016181-9dfe-43ba-a06e-24d9064db6f7",
   "metadata": {},
   "outputs": [
    {
     "name": "stdout",
     "output_type": "stream",
     "text": [
      "32 32 32 38 43 43 43 46 48 49 50 54 54 56 57 57 59 61 61 62 63 64 65 66 67 68 70 71 72 76 86 87 92 93 93 94 96 97 98 99 "
     ]
    }
   ],
   "source": [
    "nums.sort()\n",
    "\n",
    "for item in nums:\n",
    "    print(item, end=' ')"
   ]
  },
  {
   "cell_type": "markdown",
   "id": "c631c26d-5fee-4f7b-aa19-bdca488a3465",
   "metadata": {},
   "source": [
    "## The Sample Mean\n",
    "\n",
    "- Sum up all the values in the sample\n",
    "- Count the total number of items in the sample\n",
    "- Divide the sum of all the values by the total number of items in the sample"
   ]
  },
  {
   "cell_type": "markdown",
   "id": "93938f4b-24a6-470d-ac27-ef11bfc517cb",
   "metadata": {},
   "source": [
    "$\\overline{\\chi} = \\frac{\\sum\\chi_i}{n}$"
   ]
  },
  {
   "cell_type": "code",
   "execution_count": 107,
   "id": "f3ac298c-805c-4b3f-9da7-f63c50b6245a",
   "metadata": {},
   "outputs": [
    {
     "name": "stdout",
     "output_type": "stream",
     "text": [
      "The mean is 64.85\n"
     ]
    }
   ],
   "source": [
    "import statistics\n",
    "\n",
    "mean_value = statistics.mean(nums)\n",
    "\n",
    "print (f\"The mean is {mean_value:.2f}\")"
   ]
  },
  {
   "cell_type": "markdown",
   "id": "6516d5e2-6f75-42b1-8648-52341b4cd170",
   "metadata": {},
   "source": [
    "## The Median\n",
    "[Median](https://www.khanacademy.org/math/statistics-probability/summarizing-quantitative-data/mean-median-basics/a/mean-median-and-mode-review#:~:text=The%20median%20is%20the%20middle,data%20point%20in%20the%20list)"
   ]
  },
  {
   "cell_type": "code",
   "execution_count": 109,
   "id": "c9c9531a-aea1-4b3f-b1c1-1169a71a788e",
   "metadata": {},
   "outputs": [
    {
     "name": "stdout",
     "output_type": "stream",
     "text": [
      "The median is 62.5\n"
     ]
    }
   ],
   "source": [
    "# Arrange the numbers in ascending order.\\n\",\n",
    "# Since there are an even number of values, there will be no single middle value.\\n\",\n",
    "# To find the median, take the average of the two middle values.\\n\",\n",
    "\n",
    "import statistics\n",
    "\n",
    "median_value = statistics.median(nums)\n",
    "\n",
    "print(f\"The median is {median_value:.1f}\")"
   ]
  }
 ],
 "metadata": {
  "kernelspec": {
   "display_name": "Python 3 (ipykernel)",
   "language": "python",
   "name": "python3"
  },
  "language_info": {
   "codemirror_mode": {
    "name": "ipython",
    "version": 3
   },
   "file_extension": ".py",
   "mimetype": "text/x-python",
   "name": "python",
   "nbconvert_exporter": "python",
   "pygments_lexer": "ipython3",
   "version": "3.12.4"
  }
 },
 "nbformat": 4,
 "nbformat_minor": 5
}
